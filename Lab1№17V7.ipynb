{
 "cells": [
  {
   "cell_type": "markdown",
   "id": "8de0aa30-e9fb-4006-907a-5efb0fb11d40",
   "metadata": {
    "tags": []
   },
   "source": [
    "# [Iceland](https://en.wikipedia.org/wiki/Iceland)\n",
    "\n",
    "## <span style=\"color:red\">Territory</span>\n",
    "\n",
    "\n",
    "Iceland is a Nordic island country in the North Atlantic Ocean, with a total area of 103,000 km². It is the most sparsely populated country in Europe, with a population density of just 3 inhabitants per km²."
   ]
  },
  {
   "cell_type": "code",
   "execution_count": 1,
   "id": "d37cd3d0-06bc-4dfa-8925-34fc64b492b7",
   "metadata": {},
   "outputs": [
    {
     "data": {
      "text/html": [
       "<style>\n",
       "#myBox {\n",
       "  display:block;\n",
       "  width:300px;\n",
       "  height:200px;\n",
       "\n",
       "}\n",
       "#p {\n",
       "border: 1px solid red;\n",
       "padding: 10px;\n",
       "}\n",
       "\n",
       "#myImg {\n",
       "  display:inline-block;\n",
       "  width:100%;\n",
       "  vertical-align: center;\n",
       "}\n",
       "</style>\n",
       "<div id=\"myBox\">\n",
       "<div id=\"p\">\n",
       "  Ósvör, a replica of an old fishing outpost outside Bolungarvík\n",
       "      </div>\n",
       "  <img id=\"myImg\" src=\"https://upload.wikimedia.org/wikipedia/commons/5/53/Bolungarvik_02.jpg\" />\n",
       "</div>\n"
      ],
      "text/plain": [
       "<IPython.core.display.HTML object>"
      ]
     },
     "metadata": {},
     "output_type": "display_data"
    }
   ],
   "source": [
    "%%HTML\n",
    "<style>\n",
    "#myBox {\n",
    "  display:block;\n",
    "  width:300px;\n",
    "  height:200px;\n",
    "\n",
    "}\n",
    "#p {\n",
    "border: 1px solid red;\n",
    "padding: 10px;\n",
    "}\n",
    "\n",
    "#myImg {\n",
    "  display:inline-block;\n",
    "  width:100%;\n",
    "  vertical-align: center;\n",
    "}\n",
    "</style>\n",
    "<div id=\"myBox\">\n",
    "<div id=\"p\">\n",
    "  Ósvör, a replica of an old fishing outpost outside Bolungarvík\n",
    "      </div>\n",
    "  <img id=\"myImg\" src=\"https://upload.wikimedia.org/wikipedia/commons/5/53/Bolungarvik_02.jpg\" />\n",
    "</div>"
   ]
  },
  {
   "cell_type": "markdown",
   "id": "e82afd2e-fbfb-4dab-8ae1-bb96cf6ff965",
   "metadata": {
    "tags": []
   },
   "source": [
    "## Population\n",
    "\n",
    "As of 2021, the population of Iceland is around 364,134 people. The majority of the population lives in the capital city of Reykjavik and its surrounding areas."
   ]
  },
  {
   "cell_type": "code",
   "execution_count": 2,
   "id": "d7218e01-19cb-4c73-ad65-43971c075266",
   "metadata": {},
   "outputs": [
    {
     "data": {
      "text/html": [
       "<style>\n",
       "#myBox {\n",
       "  display:block;\n",
       "  width:100px;\n",
       "  height:100px;\n",
       "  text-align:center;\n",
       "  font-size:20px;\n",
       "\n",
       "}\n",
       "\n",
       "#myImg {\n",
       "  display:inline-block;\n",
       "  width:100%;\n",
       "  vertical-align: center;\n",
       "}\n",
       "</style>\n",
       "<div id=\"myBox\">\n",
       "  A map of Iceland published in the early 17th century by Gerardus Mercator\n",
       "  <img id=\"myImg\" src=\"https://upload.wikimedia.org/wikipedia/commons/thumb/1/18/Gerardi_Mercatoris_Atlas%2C_sive%2C_Cosmographicae_Meditationes_de_Fabrica_Mundi_et_Fabricati_Figura_%2824696368309%29.jpg/220px-Gerardi_Mercatoris_Atlas%2C_sive%2C_Cosmographicae_Meditationes_de_Fabrica_Mundi_et_Fabricati_Figura_%2824696368309%29.jpg\" />\n",
       "</div>\n"
      ],
      "text/plain": [
       "<IPython.core.display.HTML object>"
      ]
     },
     "metadata": {},
     "output_type": "display_data"
    }
   ],
   "source": [
    "%%HTML\n",
    "<style>\n",
    "#myBox {\n",
    "  display:block;\n",
    "  width:100px;\n",
    "  height:100px;\n",
    "  text-align:center;\n",
    "  font-size:20px;\n",
    "\n",
    "}\n",
    "\n",
    "#myImg {\n",
    "  display:inline-block;\n",
    "  width:100%;\n",
    "  vertical-align: center;\n",
    "}\n",
    "</style>\n",
    "<div id=\"myBox\">\n",
    "  A map of Iceland published in the early 17th century by Gerardus Mercator\n",
    "  <img id=\"myImg\" src=\"https://upload.wikimedia.org/wikipedia/commons/thumb/1/18/Gerardi_Mercatoris_Atlas%2C_sive%2C_Cosmographicae_Meditationes_de_Fabrica_Mundi_et_Fabricati_Figura_%2824696368309%29.jpg/220px-Gerardi_Mercatoris_Atlas%2C_sive%2C_Cosmographicae_Meditationes_de_Fabrica_Mundi_et_Fabricati_Figura_%2824696368309%29.jpg\" />\n",
    "</div>"
   ]
  },
  {
   "cell_type": "markdown",
   "id": "b725a9b2-d5c9-4c62-ba98-13c0b790b9ca",
   "metadata": {
    "tags": []
   },
   "source": [
    "## Government\n",
    "\n",
    "Iceland is a parliamentary republic with a president as the head of state and a prime minister as the head of government. The Althingi is the unicameral national parliament."
   ]
  },
  {
   "cell_type": "code",
   "execution_count": 3,
   "id": "3894c959-f720-4463-a4ea-0ad7d7c796fb",
   "metadata": {},
   "outputs": [
    {
     "data": {
      "text/html": [
       "<style>\n",
       "#myBox {\n",
       "  display:block;\n",
       "  width:250px;\n",
       "  height:100px;\n",
       "\n",
       "}\n",
       "\n",
       "#myImg {\n",
       "  display:inline-block;\n",
       "  vertical-align: center;\n",
       "}\n",
       "</style>\n",
       "<div id=\"myBox\">\n",
       "  The political system of Iceland\n",
       "  <img id=\"myImg\" src=\"https://upload.wikimedia.org/wikipedia/commons/thumb/9/96/Politics_Of_Iceland.svg/450px-Politics_Of_Iceland.svg.png\" />\n",
       "</div>\n"
      ],
      "text/plain": [
       "<IPython.core.display.HTML object>"
      ]
     },
     "metadata": {},
     "output_type": "display_data"
    }
   ],
   "source": [
    "%%HTML\n",
    "<style>\n",
    "#myBox {\n",
    "  display:block;\n",
    "  width:250px;\n",
    "  height:100px;\n",
    "\n",
    "}\n",
    "\n",
    "#myImg {\n",
    "  display:inline-block;\n",
    "  vertical-align: center;\n",
    "}\n",
    "</style>\n",
    "<div id=\"myBox\">\n",
    "  The political system of Iceland\n",
    "  <img id=\"myImg\" src=\"https://upload.wikimedia.org/wikipedia/commons/thumb/9/96/Politics_Of_Iceland.svg/450px-Politics_Of_Iceland.svg.png\" />\n",
    "</div>"
   ]
  },
  {
   "cell_type": "markdown",
   "id": "0bd7ce51-1047-41a5-8a6d-cacda9077f5e",
   "metadata": {},
   "source": [
    "|                   |State(President)|               |\n",
    "|-------------------|----------------|---------------|\n",
    "|                |Goverment(Prime Minister)|         |\n",
    "|Legistativ branch  |Executiv branch |Judical Branch |\n",
    "|Parliament         |Cabinet         |Supreme Court  |\n",
    "||||\n",
    "|standing committees|Ministries      |District Courts|\n",
    "||||\n",
    "|                   |Agencirs        |               |"
   ]
  },
  {
   "cell_type": "markdown",
   "id": "9930bf9c-11e3-4e25-bf74-21b8254b153f",
   "metadata": {
    "tags": []
   },
   "source": [
    "## Notable Personalities\n",
    "\n",
    "    * Jon Sigurdsson, a statesman and the leader of the 19th century Icelandic independence movement\n",
    "    * Halldor Laxness, a Nobel Prize-winning author\n",
    "    * Björk, a singer-songwriter and actress known for her unique and eclectic musical style"
   ]
  },
  {
   "cell_type": "code",
   "execution_count": 4,
   "id": "48315a71-d9b9-4675-a949-f191437e2e26",
   "metadata": {},
   "outputs": [
    {
     "data": {
      "text/html": [
       "<style>\n",
       "#myBox {\n",
       "  display:block;\n",
       "  width:300px;\n",
       "  height:350px;\n",
       "  text-align:center;\n",
       "  font-size:20px;\n",
       "}\n",
       "\n",
       "#myImg {\n",
       "  display:inline-block;\n",
       "  width:100%;\n",
       "  vertical-align: center;\n",
       "}\n",
       "</style>\n",
       "<div id=\"myBox\">\n",
       "  Nordic prime ministers and the president of Finland visiting the White House in 2016, with Iceland's Sigurður second from the left\n",
       "  <img id=\"myImg\" src=\"https://upload.wikimedia.org/wikipedia/commons/thumb/9/9b/Barack_Obama_and_the_Nordic_leaders_at_White_House_01.jpg/220px-Barack_Obama_and_the_Nordic_leaders_at_White_House_01.jpg\" />\n",
       "</div>\n"
      ],
      "text/plain": [
       "<IPython.core.display.HTML object>"
      ]
     },
     "metadata": {},
     "output_type": "display_data"
    }
   ],
   "source": [
    "%%HTML\n",
    "<style>\n",
    "#myBox {\n",
    "  display:block;\n",
    "  width:300px;\n",
    "  height:350px;\n",
    "  text-align:center;\n",
    "  font-size:20px;\n",
    "}\n",
    "\n",
    "#myImg {\n",
    "  display:inline-block;\n",
    "  width:100%;\n",
    "  vertical-align: center;\n",
    "}\n",
    "</style>\n",
    "<div id=\"myBox\">\n",
    "  Nordic prime ministers and the president of Finland visiting the White House in 2016, with Iceland's Sigurður second from the left\n",
    "  <img id=\"myImg\" src=\"https://upload.wikimedia.org/wikipedia/commons/thumb/9/9b/Barack_Obama_and_the_Nordic_leaders_at_White_House_01.jpg/220px-Barack_Obama_and_the_Nordic_leaders_at_White_House_01.jpg\" />\n",
    "</div>"
   ]
  },
  {
   "cell_type": "markdown",
   "id": "af751bdd-3e9d-43ed-bd98-4b84472beb4c",
   "metadata": {
    "tags": []
   },
   "source": [
    "## Cultural Attractions\n",
    "\n",
    "* The Blue Lagoon, a geothermal spa located in a lava field in Grindavik\n",
    "* Reykjavik, the capital city of Iceland known for its colorful buildings, museums and galleries\n",
    "* Golden Circle, a 300 km route that takes in some of Iceland's most famous natural attractions, including Gullfoss waterfall and Thingvellir National Park."
   ]
  },
  {
   "cell_type": "code",
   "execution_count": 5,
   "id": "ef7faa41-c871-482c-9403-398c3d901e5e",
   "metadata": {},
   "outputs": [
    {
     "data": {
      "text/html": [
       "<style>\n",
       "#myBox {\n",
       "  display:block;\n",
       "  width:600px;\n",
       "  height:400px;\n",
       "  text-align:center;\n",
       "  font-size:20px;\n",
       "}\n",
       "\n",
       "#myImg {\n",
       "  display:inline-block;\n",
       "  vertical-align: center;\n",
       "  width: 60%;\n",
       "}\n",
       "</style>\n",
       "<div id=\"myBox\">\n",
       "  A page of Njáls saga from Möðruvallabók. The sagas are a significant part of the Icelandic heritage.\n",
       "  <img id=\"myImg\" src=\"https://upload.wikimedia.org/wikipedia/commons/thumb/c/cd/M%C3%B6%C3%B0ruvallab%C3%B3k_f13r.jpg/220px-M%C3%B6%C3%B0ruvallab%C3%B3k_f13r.jpg\" />\n",
       "</div>\n"
      ],
      "text/plain": [
       "<IPython.core.display.HTML object>"
      ]
     },
     "metadata": {},
     "output_type": "display_data"
    }
   ],
   "source": [
    "%%HTML\n",
    "<style>\n",
    "#myBox {\n",
    "  display:block;\n",
    "  width:600px;\n",
    "  height:400px;\n",
    "  text-align:center;\n",
    "  font-size:20px;\n",
    "}\n",
    "\n",
    "#myImg {\n",
    "  display:inline-block;\n",
    "  vertical-align: center;\n",
    "  width: 60%;\n",
    "}\n",
    "</style>\n",
    "<div id=\"myBox\">\n",
    "  A page of Njáls saga from Möðruvallabók. The sagas are a significant part of the Icelandic heritage.\n",
    "  <img id=\"myImg\" src=\"https://upload.wikimedia.org/wikipedia/commons/thumb/c/cd/M%C3%B6%C3%B0ruvallab%C3%B3k_f13r.jpg/220px-M%C3%B6%C3%B0ruvallab%C3%B3k_f13r.jpg\" />\n",
    "</div>"
   ]
  },
  {
   "cell_type": "markdown",
   "id": "46207f9a-66d7-41a9-ba22-01aae446c676",
   "metadata": {
    "tags": []
   },
   "source": [
    "## Natural Attractions\n",
    "\n",
    "* Vatnajökull, Europe's largest glacier\n",
    "* Jökulsárlón, a glacial lagoon filled with icebergs\n",
    "* Geysir, a geyser that gives its name to all geysers around the world."
   ]
  },
  {
   "cell_type": "markdown",
   "id": "e3779b30-9daa-49c4-80fb-276ab4a4a96a",
   "metadata": {
    "tags": []
   },
   "source": [
    "## Conclusion\n",
    "\n",
    "Iceland is an amazing place with a unique culture, beautiful landscapes and rich history. Whether you're looking for adventure or relaxation, you're sure to find it in Iceland."
   ]
  },
  {
   "cell_type": "markdown",
   "id": "87a018df-35ce-4095-933a-f5a73941740b",
   "metadata": {},
   "source": [
    "## Flag of Iceland"
   ]
  },
  {
   "cell_type": "code",
   "execution_count": 6,
   "id": "f0e2ffb4-70e6-4530-9422-db09c6e24d00",
   "metadata": {},
   "outputs": [
    {
     "data": {
      "text/html": [
       "<?xml version=\"1.0\" ?>\n",
       "<svg xmlns=\"http://www.w3.org/2000/svg\"  width=\"1250\" height=\"900\" viewBox=\"0 0 25 18\">\n",
       "\t<path d=\"M0 0H25V18H0Z\" fill=\"#02529C\"/>\n",
       "\t<path d=\"M0 9H25M9 0V18\" stroke-width=\"4\" stroke=\"#FFF\"/>\n",
       "\t<path d=\"M0 9H25M9 0V18\" stroke-width=\"2\" stroke=\"#DC1E35\"/>\n",
       "</svg>\n"
      ],
      "text/plain": [
       "<IPython.core.display.HTML object>"
      ]
     },
     "metadata": {},
     "output_type": "display_data"
    }
   ],
   "source": [
    "%%HTML\n",
    "<?xml version=\"1.0\" ?>\n",
    "<svg xmlns=\"http://www.w3.org/2000/svg\"  width=\"1250\" height=\"900\" viewBox=\"0 0 25 18\">\n",
    "\t<path d=\"M0 0H25V18H0Z\" fill=\"#02529C\"/>\n",
    "\t<path d=\"M0 9H25M9 0V18\" stroke-width=\"4\" stroke=\"#FFF\"/>\n",
    "\t<path d=\"M0 9H25M9 0V18\" stroke-width=\"2\" stroke=\"#DC1E35\"/>\n",
    "</svg>\n"
   ]
  },
  {
   "cell_type": "code",
   "execution_count": null,
   "id": "9e7fd12d-59cd-4a51-aee3-80996cf7758f",
   "metadata": {},
   "outputs": [],
   "source": []
  },
  {
   "cell_type": "code",
   "execution_count": null,
   "id": "7d8a746c-e75c-45c0-a441-8c9032ad83a7",
   "metadata": {},
   "outputs": [],
   "source": []
  },
  {
   "cell_type": "markdown",
   "id": "91e0012f-3e88-44db-97de-692fa17877f9",
   "metadata": {},
   "source": [
    "# Coding part"
   ]
  },
  {
   "cell_type": "code",
   "execution_count": 7,
   "id": "68e8e420-9aa9-4b52-995f-733e9ffd2fac",
   "metadata": {},
   "outputs": [],
   "source": [
    "MAX_ITERATIONS = 10\n",
    "\n",
    "\n",
    "def integral_to_bin(decimal):\n",
    "    binary = []\n",
    "    while decimal:\n",
    "        binary.append(str(decimal % 2))\n",
    "        decimal //= 2\n",
    "    return ''.join(binary)[::-1]\n",
    "\n",
    "def decimal_to_bin(decimal):\n",
    "    binary = []\n",
    "    counter = 0\n",
    "    while decimal != 0.0:\n",
    "        decimal *= 2\n",
    "        if decimal >= 1:\n",
    "            binary.append('1')\n",
    "            decimal -= 1\n",
    "            continue\n",
    "\n",
    "        binary.append('0')\n",
    "\n",
    "        counter += 1\n",
    "        if counter > MAX_ITERATIONS:\n",
    "            break\n",
    "\n",
    "\n",
    "    return ''.join(binary)\n",
    "\n",
    "def decimal_to_binary(decimal):\n",
    "    # check if input is a decimal number (int or float)\n",
    "    if isinstance(decimal, int) or isinstance(decimal, float):\n",
    "        # if input is negative, convert it to positive and add a negative sign at the beginning\n",
    "        if decimal < 0:\n",
    "            decimal = abs(decimal)\n",
    "            negative = True\n",
    "        else:\n",
    "            negative = False\n",
    "        if isinstance(decimal, int):\n",
    "            binary = integral_to_bin(decimal)\n",
    "        elif isinstance(decimal, float):\n",
    "            decimal_part, integral_part = str(decimal).split(\".\")\n",
    "            decimal_part = integral_to_bin(int(decimal_part))\n",
    "            integral_part = float(\"0.\" + integral_part)\n",
    "            binary = '%s.%s' % (decimal_part, decimal_to_bin(integral_part))\n",
    "        if negative:\n",
    "            return '1|' + binary\n",
    "        return '0|' + binary\n",
    "    else:\n",
    "        raise ValueError(\"Input must be a decimal number (int or float)\")\n"
   ]
  },
  {
   "cell_type": "code",
   "execution_count": 8,
   "id": "4e9476ff-bb70-418b-b9cd-e4fb611f248d",
   "metadata": {},
   "outputs": [
    {
     "data": {
      "text/plain": [
       "'0|100000'"
      ]
     },
     "execution_count": 8,
     "metadata": {},
     "output_type": "execute_result"
    }
   ],
   "source": [
    "decimal_to_binary(32)"
   ]
  },
  {
   "cell_type": "code",
   "execution_count": 9,
   "id": "a119f5a5-4ab0-4176-a6a8-ecefb20e7588",
   "metadata": {},
   "outputs": [
    {
     "data": {
      "text/plain": [
       "'1|1010.01'"
      ]
     },
     "execution_count": 9,
     "metadata": {},
     "output_type": "execute_result"
    }
   ],
   "source": [
    "decimal_to_binary(-10.25)"
   ]
  },
  {
   "cell_type": "code",
   "execution_count": 10,
   "id": "6abfe1e5-14fd-4dc7-9dd0-d12ed1afeee5",
   "metadata": {},
   "outputs": [
    {
     "data": {
      "text/plain": [
       "'0|1000'"
      ]
     },
     "execution_count": 10,
     "metadata": {},
     "output_type": "execute_result"
    }
   ],
   "source": [
    "decimal_to_binary(8)"
   ]
  },
  {
   "cell_type": "code",
   "execution_count": 11,
   "id": "373c69f1-f1ec-4d64-9367-3db87b38e618",
   "metadata": {},
   "outputs": [
    {
     "data": {
      "text/plain": [
       "'0|1010'"
      ]
     },
     "execution_count": 11,
     "metadata": {},
     "output_type": "execute_result"
    }
   ],
   "source": [
    "decimal_to_binary(10)"
   ]
  },
  {
   "cell_type": "code",
   "execution_count": 12,
   "id": "a9362c05-49a0-4737-805f-01ec5b750c10",
   "metadata": {},
   "outputs": [
    {
     "data": {
      "text/plain": [
       "'1|110'"
      ]
     },
     "execution_count": 12,
     "metadata": {},
     "output_type": "execute_result"
    }
   ],
   "source": [
    "decimal_to_binary(-6)"
   ]
  },
  {
   "cell_type": "code",
   "execution_count": 13,
   "id": "a80a478b-13f3-4c13-98e1-153d1fbf4e15",
   "metadata": {},
   "outputs": [
    {
     "data": {
      "text/plain": [
       "'0|1010.11000101000111101011100'"
      ]
     },
     "execution_count": 13,
     "metadata": {},
     "output_type": "execute_result"
    }
   ],
   "source": [
    "decimal_to_binary(10.77)"
   ]
  },
  {
   "cell_type": "code",
   "execution_count": 14,
   "id": "d794f52c-cb90-447c-9c45-bd1ae2c07df5",
   "metadata": {},
   "outputs": [
    {
     "data": {
      "text/plain": [
       "'1|1010.10001100110011001100'"
      ]
     },
     "execution_count": 14,
     "metadata": {},
     "output_type": "execute_result"
    }
   ],
   "source": [
    "decimal_to_binary(-10.55)"
   ]
  },
  {
   "cell_type": "code",
   "execution_count": null,
   "id": "3e0c9d87-1e3e-4406-8b1d-129ff43dfe95",
   "metadata": {},
   "outputs": [],
   "source": []
  },
  {
   "cell_type": "code",
   "execution_count": null,
   "id": "c46fffe5-55d9-45e5-8023-952e1c436722",
   "metadata": {},
   "outputs": [],
   "source": []
  },
  {
   "cell_type": "code",
   "execution_count": null,
   "id": "0a4554b1-0ca2-483b-a390-e4040b31807f",
   "metadata": {},
   "outputs": [],
   "source": []
  },
  {
   "cell_type": "code",
   "execution_count": null,
   "id": "28b0d037-f480-4531-9b05-f1b834f21f98",
   "metadata": {},
   "outputs": [],
   "source": []
  }
 ],
 "metadata": {
  "kernelspec": {
   "display_name": "Python 3 (ipykernel)",
   "language": "python",
   "name": "python3"
  },
  "language_info": {
   "codemirror_mode": {
    "name": "ipython",
    "version": 3
   },
   "file_extension": ".py",
   "mimetype": "text/x-python",
   "name": "python",
   "nbconvert_exporter": "python",
   "pygments_lexer": "ipython3",
   "version": "3.11.8"
  }
 },
 "nbformat": 4,
 "nbformat_minor": 5
}
